{
  "nbformat": 4,
  "nbformat_minor": 0,
  "metadata": {
    "colab": {
      "provenance": [],
      "include_colab_link": true
    },
    "kernelspec": {
      "name": "python3",
      "display_name": "Python 3"
    },
    "language_info": {
      "name": "python"
    }
  },
  "cells": [
    {
      "cell_type": "markdown",
      "metadata": {
        "id": "view-in-github",
        "colab_type": "text"
      },
      "source": [
        "<a href=\"https://colab.research.google.com/github/RicardoGalindoBulos/Evidencia-2/blob/main/Lastmile_Delivery.ipynb\" target=\"_parent\"><img src=\"https://colab.research.google.com/assets/colab-badge.svg\" alt=\"Open In Colab\"/></a>"
      ]
    },
    {
      "cell_type": "code",
      "execution_count": 99,
      "metadata": {
        "id": "vD-D7mvHKiT9"
      },
      "outputs": [],
      "source": [
        "#Importamos las librerías pandas numpy y matplotlib respectivamente\n",
        "import pandas as pd\n",
        "import numpy as np\n",
        "import matplotlib.pyplot as plt"
      ]
    },
    {
      "cell_type": "code",
      "source": [
        "#Cargar archivo csv desde equipo\n",
        "from google.colab import files\n",
        "files.upload()"
      ],
      "metadata": {
        "id": "wEdVv2thK7Tq"
      },
      "execution_count": null,
      "outputs": []
    },
    {
      "cell_type": "code",
      "source": [
        "#Lectura de archivo tipo csv\n",
        "lastmile = pd.read_excel('lastmile_delivery_operations_mit_lift_lab.xlsx')\n",
        "lastmile"
      ],
      "metadata": {
        "id": "D1HxpkOOMF_o"
      },
      "execution_count": null,
      "outputs": []
    },
    {
      "cell_type": "code",
      "source": [
        "#Filtro de columnas para cualitativas\n",
        "Cualitativa = lastmile.iloc[:,[8,9,10,11,12,14,15,16,18,19,20,21,24,25,27,28]]"
      ],
      "metadata": {
        "id": "4Vu2AFhNOC2S"
      },
      "execution_count": 145,
      "outputs": []
    },
    {
      "cell_type": "code",
      "source": [
        "#Filtro de columnas para cualitativas\n",
        "Cuantitativa = lastmile.iloc[:,[6,7,13,22,23]]\n"
      ],
      "metadata": {
        "id": "wlU4VAwZOQQZ"
      },
      "execution_count": 146,
      "outputs": []
    },
    {
      "cell_type": "code",
      "source": [
        "#Corroboramos valores nulos\n",
        "valores_nulos = Cualitativa.isnull().sum()\n",
        "valores_nulos "
      ],
      "metadata": {
        "id": "wuBbcJV-ObJI"
      },
      "execution_count": null,
      "outputs": []
    },
    {
      "cell_type": "code",
      "source": [
        "#Limpiamos Valores nulos de cualitativos\n",
        "Cualitativa[\"arrival_of_the_freight_vehicle\"] =Cualitativa[\"arrival_of_the_freight_vehicle\"].fillna(method=\"bfill\")\n",
        "Cualitativa[\"plates\"] =Cualitativa[\"plates\"].fillna(method=\"bfill\")\n",
        "Cualitativa[\"company_if_visible\"] =Cualitativa[\"company_if_visible\"].fillna(method=\"bfill\")\n",
        "Cualitativa[\"visit_purpose\"] =Cualitativa[\"visit_purpose\"].fillna(method=\"bfill\")\n",
        "Cualitativa[\"refrigerated_truck\"] =Cualitativa[\"refrigerated_truck\"].fillna(method=\"bfill\")\n",
        "Cualitativa[\"type_of_cargo\"] =Cualitativa[\"type_of_cargo\"].fillna(method=\"bfill\")\n",
        "Cualitativa[\"where_was_the_vehicle_parked\"] =Cualitativa[\"where_was_the_vehicle_parked\"].fillna(method=\"bfill\")\n",
        "Cualitativa[\"while_parked_was_the_engine_running\"] =Cualitativa[\"while_parked_was_the_engine_running\"].fillna(method=\"bfill\")\n",
        "Cualitativa[\"used_traffic_cone\"] =Cualitativa[\"used_traffic_cone\"].fillna(method=\"bfill\")\n",
        "Cualitativa[\"vehicles_unloading_door\"] =Cualitativa[\"vehicles_unloading_door\"].fillna(method=\"bfill\")\n",
        "Cualitativa[\"garage_blocking\"] =Cualitativa[\"garage_blocking\"].fillna(method=\"bfill\")\n",
        "Cualitativa[\"accident\"] =Cualitativa[\"accident\"].fillna(method=\"bfill\")\n",
        "Cualitativa[\"traffic_congestion\"] =Cualitativa[\"traffic_congestion\"].fillna(method=\"bfill\")\n",
        "Cualitativa[\"noise\"] =Cualitativa[\"noise\"].fillna(method=\"bfill\")"
      ],
      "metadata": {
        "id": "ot8XvwHAOegQ"
      },
      "execution_count": null,
      "outputs": []
    },
    {
      "cell_type": "code",
      "source": [
        "#Corroboramos valores nulos de Cualitativos para limpiarlos\n",
        "valores_nulos = Cualitativa.isnull().sum()\n",
        "valores_nulos"
      ],
      "metadata": {
        "id": "oc9VVi5_OlRE",
        "outputId": "e31ddee9-c772-4fa4-aab7-f256f2183cac",
        "colab": {
          "base_uri": "https://localhost:8080/"
        }
      },
      "execution_count": 149,
      "outputs": [
        {
          "output_type": "execute_result",
          "data": {
            "text/plain": [
              "arrival_of_the_freight_vehicle           0\n",
              "plates                                   0\n",
              "company_if_visible                       0\n",
              "visit_purpose                            0\n",
              "type_of_vehicle                          0\n",
              "refrigerated_truck                       0\n",
              "type_of_cargo                            0\n",
              "picture_of_the_parked_freight_vehicle    0\n",
              "where_was_the_vehicle_parked             0\n",
              "while_parked_was_the_engine_running      0\n",
              "used_traffic_cone                        0\n",
              "vehicles_unloading_door                  0\n",
              "garage_blocking                          0\n",
              "accident                                 0\n",
              "noise                                    0\n",
              "traffic_congestion                       0\n",
              "dtype: int64"
            ]
          },
          "metadata": {},
          "execution_count": 149
        }
      ]
    },
    {
      "cell_type": "code",
      "source": [
        "valores_nulos = Cuantitativa.isnull().sum()\n",
        "valores_nulos "
      ],
      "metadata": {
        "id": "QXCvxe9TXHKF",
        "outputId": "630e86ff-d2be-4419-b722-9129d1a7ac72",
        "colab": {
          "base_uri": "https://localhost:8080/"
        }
      },
      "execution_count": 150,
      "outputs": [
        {
          "output_type": "execute_result",
          "data": {
            "text/plain": [
              "_latitude                         0\n",
              "_longitude                        0\n",
              "number_of_operators               0\n",
              "number_of_available_trolleys      0\n",
              "serving_customer                292\n",
              "dtype: int64"
            ]
          },
          "metadata": {},
          "execution_count": 150
        }
      ]
    },
    {
      "cell_type": "code",
      "source": [
        "y=Cuantitativa\n",
        "  \n",
        "Limite_Superior= y.mean() + 3*y.std()\n",
        "Limite_Inferior= y.mean() - 3*y.std()\n",
        "print(\"Limite superior permitido\", Limite_Superior)\n",
        "print(\"Limite inferior permitido\", Limite_Inferior)\n",
        "#Encontramos Ouliers del Dataframe\n",
        "outliers= Cuantitativa[(y>Limite_Superior)|(y<Limite_Inferior)]\n",
        "outliers"
      ],
      "metadata": {
        "id": "J-5Sq1qBTayd"
      },
      "execution_count": null,
      "outputs": []
    },
    {
      "cell_type": "code",
      "source": [
        "Cuantitativa= Cuantitativa[(y<=Limite_Superior)&(y>=Limite_Inferior)]\n",
        "Cuantitativa"
      ],
      "metadata": {
        "id": "zWnuxkbgTjvq"
      },
      "execution_count": null,
      "outputs": []
    },
    {
      "cell_type": "code",
      "source": [
        "valores_nulos=Cuantitativa.isnull().sum()\n",
        "valores_nulos"
      ],
      "metadata": {
        "id": "4t6dJG7kTuNg",
        "outputId": "6ca8af80-53a2-45a8-da97-e7314e905acb",
        "colab": {
          "base_uri": "https://localhost:8080/"
        }
      },
      "execution_count": 153,
      "outputs": [
        {
          "output_type": "execute_result",
          "data": {
            "text/plain": [
              "_latitude                         0\n",
              "_longitude                        0\n",
              "number_of_operators               3\n",
              "number_of_available_trolleys      4\n",
              "serving_customer                292\n",
              "dtype: int64"
            ]
          },
          "metadata": {},
          "execution_count": 153
        }
      ]
    },
    {
      "cell_type": "code",
      "source": [
        "Cuantitativa=Cuantitativa.fillna(round(Cuantitativa.mean(),1))\n",
        "Cuantitativa"
      ],
      "metadata": {
        "id": "C5Wo2zPBTzXU"
      },
      "execution_count": null,
      "outputs": []
    },
    {
      "cell_type": "code",
      "source": [
        "valores_nulos=Cuantitativa.isnull().sum()\n",
        "valores_nulos"
      ],
      "metadata": {
        "id": "J7XIaYzAT2JS",
        "outputId": "7f321e44-b778-42ca-be79-a235002b5c40",
        "colab": {
          "base_uri": "https://localhost:8080/"
        }
      },
      "execution_count": 155,
      "outputs": [
        {
          "output_type": "execute_result",
          "data": {
            "text/plain": [
              "_latitude                       0\n",
              "_longitude                      0\n",
              "number_of_operators             0\n",
              "number_of_available_trolleys    0\n",
              "serving_customer                0\n",
              "dtype: int64"
            ]
          },
          "metadata": {},
          "execution_count": 155
        }
      ]
    },
    {
      "cell_type": "code",
      "source": [
        "#Metodo de IQR\n",
        "#y = Cuantitativa\n",
        "#percentile25 = y.quantile(0.25) #Q1\n",
        "#percentile75 = y.quantile(0.75) #Q3\n",
        "#iqr = percentile75 - percentile25\n",
        "\n",
        "#Limite_Superior_iqr = percentile75 + 1.5*iqr\n",
        "#Limite_Inferior_iqr = percentile25 - 1.5*iqr\n",
        "#print(\"Limite superior permitido\", Limite_Superior_iqr)\n",
        "#print(\"Limite inferior permitido\", Limite_Inferior_iqr)"
      ],
      "metadata": {
        "id": "aEuWHQBNQTqZ"
      },
      "execution_count": null,
      "outputs": []
    },
    {
      "cell_type": "code",
      "source": [
        "#Obtenemos datos limpios\n",
        "#data_clean_iqr = Cuantitativa[(y <= Limite_Superior_iqr)&(y >= Limite_Inferior_iqr)]\n",
        "#data_clean_iqr"
      ],
      "metadata": {
        "id": "2ekE4USTRlnJ"
      },
      "execution_count": null,
      "outputs": []
    },
    {
      "cell_type": "code",
      "source": [
        "#Unimos ambos dataframes ya que estan limpios\n",
        "datos_limpios_Lastmile_Delivery= pd.concat([Cuantitativa,Cualitativa],axis=1)\n",
        "datos_limpios_Lastmile_Delivery"
      ],
      "metadata": {
        "id": "ohCsY7BSdbl2"
      },
      "execution_count": null,
      "outputs": []
    },
    {
      "cell_type": "code",
      "source": [
        "#Convertir dataframe a CSV\n",
        "datos_limpios_Lastmile_Delivery.to_csv(\"lastmile_delivery_operations_mit_lift_lab.csv\")\n",
        "#Descargar archivo filtrado en csv\n",
        "from google.colab import files\n",
        "\n",
        "\n",
        "files.download(\"lastmile_delivery_operations_mit_lift_lab.csv\")"
      ],
      "metadata": {
        "colab": {
          "base_uri": "https://localhost:8080/",
          "height": 17
        },
        "id": "ZlpgeYqPh2iC",
        "outputId": "fde2521f-abbe-4a3f-d291-e247adebffce"
      },
      "execution_count": 157,
      "outputs": [
        {
          "output_type": "display_data",
          "data": {
            "text/plain": [
              "<IPython.core.display.Javascript object>"
            ],
            "application/javascript": [
              "\n",
              "    async function download(id, filename, size) {\n",
              "      if (!google.colab.kernel.accessAllowed) {\n",
              "        return;\n",
              "      }\n",
              "      const div = document.createElement('div');\n",
              "      const label = document.createElement('label');\n",
              "      label.textContent = `Downloading \"${filename}\": `;\n",
              "      div.appendChild(label);\n",
              "      const progress = document.createElement('progress');\n",
              "      progress.max = size;\n",
              "      div.appendChild(progress);\n",
              "      document.body.appendChild(div);\n",
              "\n",
              "      const buffers = [];\n",
              "      let downloaded = 0;\n",
              "\n",
              "      const channel = await google.colab.kernel.comms.open(id);\n",
              "      // Send a message to notify the kernel that we're ready.\n",
              "      channel.send({})\n",
              "\n",
              "      for await (const message of channel.messages) {\n",
              "        // Send a message to notify the kernel that we're ready.\n",
              "        channel.send({})\n",
              "        if (message.buffers) {\n",
              "          for (const buffer of message.buffers) {\n",
              "            buffers.push(buffer);\n",
              "            downloaded += buffer.byteLength;\n",
              "            progress.value = downloaded;\n",
              "          }\n",
              "        }\n",
              "      }\n",
              "      const blob = new Blob(buffers, {type: 'application/binary'});\n",
              "      const a = document.createElement('a');\n",
              "      a.href = window.URL.createObjectURL(blob);\n",
              "      a.download = filename;\n",
              "      div.appendChild(a);\n",
              "      a.click();\n",
              "      div.remove();\n",
              "    }\n",
              "  "
            ]
          },
          "metadata": {}
        },
        {
          "output_type": "display_data",
          "data": {
            "text/plain": [
              "<IPython.core.display.Javascript object>"
            ],
            "application/javascript": [
              "download(\"download_d8ecc019-2bf8-4e78-96fd-8ff11d92c52b\", \"lastmile_delivery_operations_mit_lift_lab.csv\", 76840)"
            ]
          },
          "metadata": {}
        }
      ]
    }
  ]
}